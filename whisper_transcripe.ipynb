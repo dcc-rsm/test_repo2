{
 "cells": [
  {
   "cell_type": "code",
   "execution_count": 29,
   "id": "34e2c92b",
   "metadata": {},
   "outputs": [
    {
     "name": "stdout",
     "output_type": "stream",
     "text": [
      "[ INFO    ] Starting conversion of ..\n",
      "[ SUCCESS ] See . for converted audio.\n"
     ]
    }
   ],
   "source": [
    "!audioconvert convert .  . --output-format .mp3\n"
   ]
  },
  {
   "cell_type": "code",
   "execution_count": 5,
   "id": "c5d53dec",
   "metadata": {},
   "outputs": [],
   "source": [
    "import whisper\n"
   ]
  },
  {
   "cell_type": "code",
   "execution_count": 2,
   "id": "f87d7de2",
   "metadata": {},
   "outputs": [
    {
     "name": "stderr",
     "output_type": "stream",
     "text": [
      "C:\\Users\\P256980\\Anaconda3\\lib\\site-packages\\whisper\\transcribe.py:115: UserWarning: FP16 is not supported on CPU; using FP32 instead\n",
      "  warnings.warn(\"FP16 is not supported on CPU; using FP32 instead\")\n"
     ]
    }
   ],
   "source": [
    "model = whisper.load_model(\"base\")\n",
    "audio = \"Andrea.mp3\"\n",
    "result = model.transcribe(audio)\n",
    "\n",
    "\n",
    "with open(\"transcription.txt\", \"w\", encoding=\"utf-8\") as txt:\n",
    "    txt.write(result[\"text\"])\n"
   ]
  },
  {
   "cell_type": "code",
   "execution_count": null,
   "id": "c202f320",
   "metadata": {},
   "outputs": [],
   "source": []
  }
 ],
 "metadata": {
  "kernelspec": {
   "display_name": "Python 3 (ipykernel)",
   "language": "python",
   "name": "python3"
  },
  "language_info": {
   "codemirror_mode": {
    "name": "ipython",
    "version": 3
   },
   "file_extension": ".py",
   "mimetype": "text/x-python",
   "name": "python",
   "nbconvert_exporter": "python",
   "pygments_lexer": "ipython3",
   "version": "3.9.13"
  }
 },
 "nbformat": 4,
 "nbformat_minor": 5
}
